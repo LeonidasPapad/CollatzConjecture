{
 "cells": [
  {
   "cell_type": "markdown",
   "id": "8248df55",
   "metadata": {},
   "source": [
    "Greetings ,\n",
    "\n",
    "My name is Leonidas Papadopoulos and I come from Athens, Greece. I am 25 years old and I study Electrical and Computer Engineering at the National and Technical University of Athens. In this jupyter notebook I am presenting my solution for the Collatz Conjecture. You can either study it and accept it or reject it, plain and simple :)\n",
    "\n",
    "First of all, let's remember what Collatz conjecture states. Applying this function:\n",
    "\n",
    " $$ f(n)=   \\left\\{\n",
    "\\begin{array}{ll}\n",
    "      3n+1, n \\quad odd \\\\\n",
    "      n/2 , n \\quad even  \\\\\n",
    "\\end{array} \n",
    "\\right.  $$\n",
    "\n",
    "to any positive integer repeatedly, the final result will be equal to 1. Equivalently, because if n is odd, 3n+1 will be always even and will be divided by two, we apply this function:\n",
    "\n",
    "$$ f(n)=   \\left\\{\n",
    "\\begin{array}{ll}\n",
    "      (3n+1)/2, n \\quad odd \\\\\n",
    "      n/2 , n \\quad even  \\\\\n",
    "\\end{array} \n",
    "\\right.  $$\n",
    "\n",
    "My conjecture: There exist infinite odds that this function is infinitely applied to them, thus the total number always increases to infinity and never gets 1.Let's count the number of times this function is applied and find the necessary conditions.\n",
    "\n",
    "Bellow we have a function which counts the total number of times the function is applicable to a positive integer:\n"
   ]
  },
  {
   "cell_type": "code",
   "execution_count": 2,
   "id": "562ba1ea",
   "metadata": {},
   "outputs": [
    {
     "data": {
      "text/plain": [
       "8"
      ]
     },
     "execution_count": 2,
     "metadata": {},
     "output_type": "execute_result"
    }
   ],
   "source": [
    "def collatz(n,times):\n",
    "    if n%2!=0:\n",
    "        return collatz((3*n+1)//2,times+1)\n",
    "    else:\n",
    "        return times\n",
    "collatz(255,0) #For number 255, 3*n+1 / 2 is applied 8 times before the number gets even"
   ]
  },
  {
   "cell_type": "markdown",
   "id": "6d058867",
   "metadata": {},
   "source": [
    "I will prove that for the infinite odd , the collatz function that I have written runs infinite times"
   ]
  },
  {
   "cell_type": "markdown",
   "id": "670560b8",
   "metadata": {},
   "source": [
    "Let's assume a random odd."
   ]
  },
  {
   "cell_type": "markdown",
   "id": "b02f6cfd",
   "metadata": {},
   "source": [
    "collatz(2*odd+1)= 1(because 2*odd+1 is always odd) + collatz(3*odd+2) = 1 + 1 + collatz(9*n+7 // 2) = 2 + collatz(9*n + 7 //2 )"
   ]
  },
  {
   "cell_type": "markdown",
   "id": "2ed18505",
   "metadata": {},
   "source": [
    "collatz(2*(2*odd+1) + 1) = collatz(4*odd+3) = 1 + collatz(6*odd+5) = 1 + 1 + collatz(9*odd+8) = 1+1+1+collatz(27*odd+25 // 2) = 3 + collatz(27*odd + 25 //2)"
   ]
  },
  {
   "cell_type": "markdown",
   "id": "de2c76b1",
   "metadata": {},
   "source": [
    "collatz(2*(4odd+3)+1) = collatz(8odd+7) = 1 + collatz(12odd+11)= 1+1 + collatz(18odd+17)=1+1+1+collatz(27odd+26) =1+1+1+1+collatz(81odd + 79 //2) = 4 + collatz(81odd + 79 // 2)"
   ]
  },
  {
   "cell_type": "markdown",
   "id": "91d9216c",
   "metadata": {},
   "source": [
    "With the same logic, it can be easily proved that collatz(2*(8odd+7)+1)=collatz(16odd+15) is equal to 5 + something we dont know if it is even or odd.Applying the same procedure, we see that for the infinite odd,collatz function runs infinite times."
   ]
  },
  {
   "cell_type": "markdown",
   "id": "867f08ae",
   "metadata": {},
   "source": [
    "# See for yourself"
   ]
  },
  {
   "cell_type": "code",
   "execution_count": null,
   "id": "eda203ac",
   "metadata": {},
   "outputs": [],
   "source": [
    "import time\n",
    "number=1\n",
    "while True:\n",
    "    print(number,collatz(number,0))\n",
    "    time.sleep(0.5)\n",
    "    number*=2\n",
    "    number+=1"
   ]
  },
  {
   "cell_type": "markdown",
   "id": "ff337523",
   "metadata": {},
   "source": [
    "# Proof that it holds for ever"
   ]
  },
  {
   "cell_type": "markdown",
   "id": "f0d0d592",
   "metadata": {},
   "source": [
    "Let's assume f(x) = 2*x + 1 and n odd. For n times f(f(f(f(...f(n)))))) the result will be 2^n*odd + 2^n - 1 which is always odd.Collatz(2^n*odd + 2^n -1) = 1 + collatz(3.2^(n-1)*odd + 3*2^(n-1) -1 )\n",
    "\n",
    "collatz(3*(2^(n-1)*odd + 3.2^(n-1) - 1 ) = 1 + collatz(9*(2^(n-2))*odd + 9*2^(n-2) - 1) = \n",
    "1 + collatz(9*(2^(n-2)*odd + 9.2^(n-2) -1 )"
   ]
  },
  {
   "cell_type": "markdown",
   "id": "6189af24",
   "metadata": {},
   "source": [
    "By the same way, we repeat until 2^(n-k) becomes 1. This proves that for n times f(n), collatz function returns at least n+1"
   ]
  },
  {
   "cell_type": "code",
   "execution_count": null,
   "id": "756b65e3",
   "metadata": {},
   "outputs": [],
   "source": []
  }
 ],
 "metadata": {
  "kernelspec": {
   "display_name": "Python 3 (ipykernel)",
   "language": "python",
   "name": "python3"
  },
  "language_info": {
   "codemirror_mode": {
    "name": "ipython",
    "version": 3
   },
   "file_extension": ".py",
   "mimetype": "text/x-python",
   "name": "python",
   "nbconvert_exporter": "python",
   "pygments_lexer": "ipython3",
   "version": "3.10.4"
  }
 },
 "nbformat": 4,
 "nbformat_minor": 5
}
