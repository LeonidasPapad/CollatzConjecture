{
 "cells": [
  {
   "cell_type": "markdown",
   "id": "8248df55",
   "metadata": {},
   "source": [
    "Greetings ,\n",
    "\n",
    "My name is Leonidas Papadopoulos and I come from Athens, Greece. I am 25 years old and I study Electrical and Computer Engineering at the National and Technical University of Athens. In this jupyter notebook I am presenting my solution for the Collatz Conjecture. You can either study it and accept it or reject it, plain and simple :)\n",
    "\n",
    "First of all, let's remember what Collatz conjecture states. Applying this function:\n",
    "\n",
    " $$ f(n)=   \\left\\{\n",
    "\\begin{array}{ll}\n",
    "      3n+1, n \\quad odd \\\\\n",
    "      n/2 , n \\quad even  \\\\\n",
    "\\end{array} \n",
    "\\right.  $$\n",
    "\n",
    "to any positive integer repeatedly, the final result will be equal to 1. Equivalently, because if n is odd, 3n+1 will be always even and will be divided by two, we apply this function:\n",
    "\n",
    "$$ f(n)=   \\left\\{\n",
    "\\begin{array}{ll}\n",
    "      (3n+1)/2, n \\quad odd \\\\\n",
    "      n/2 , n \\quad even  \\\\\n",
    "\\end{array} \n",
    "\\right.  $$\n",
    "\n",
    "My conjecture: There exist infinite odds that this function is infinitely applied to them, thus the total number always increases to infinity and never gets 1.Let's count the number of times this function is applied and find the necessary conditions.\n",
    "\n",
    "\n",
    "For $ k=1 $, $ n $ must be odd. Simple\n",
    "\n",
    "For $ k=2 $, $ (3n+1)/2 $ must be odd. This means that $ n=(2*odd-1)/3 $where odd is known.We can scan all the odds from n=1 to infinity.The odds for which the fraction is integer and odd form all the positive n's for which this function is applicable 2 ot more times.\n",
    "\n",
    "\n",
    "For $k=3,$$(3*((3*n+1)/2))+1)/2 $ must be odd. Or, if we do the calculations, $ (9*n+5)/4 $ odd. This means that or initial number $ n $ is equal to $ (4odd-5)/9. $.Applying the same procedure, the odd is known, and we can scan all the odds from n=1 to infinity to find all the numbers for which this function is applicable 3 or more times.\n",
    "\n",
    "\n",
    "For $ k=n $, it can be proved that our initial number , $n$ is equal to $ (a*odd-b)/(3^{k-1}) $ where odd is known, its the odd we solved up to. Scanning all the odds from n=1 to infinity, for those that the fraction is integer and odd we can find all the numbers for which that function is applicable n or more times.\n",
    "\n",
    "\n",
    "Setting $ k = \\infty $, there exist infinite odds for which this function is applicable infitite times, thus the total number increases to infinity. The infinite evens eventually will be infinite odds, after we apply this function a logical number of times :).\n",
    "\n",
    "\n",
    "Bellow we have a function which counts the total number of times the function is applicable to a positive integer:\n"
   ]
  },
  {
   "cell_type": "code",
   "execution_count": 1,
   "id": "562ba1ea",
   "metadata": {},
   "outputs": [],
   "source": [
    "def collatz(n,times):\n",
    "    if n%2!=0:\n",
    "        return collatz((3*n+1)//2,times+1)\n",
    "    else:\n",
    "        return times"
   ]
  },
  {
   "cell_type": "code",
   "execution_count": null,
   "id": "b2c1257e",
   "metadata": {},
   "outputs": [],
   "source": [
    "max1=0\n",
    "times1=0\n",
    "i=1\n",
    "while True:\n",
    "    x=collatz(i,0)\n",
    "    if x>times1:\n",
    "        times1=x\n",
    "        max1=i\n",
    "        print(max1,times1)\n",
    "    i+=2"
   ]
  },
  {
   "cell_type": "markdown",
   "id": "d6d04ad1",
   "metadata": {},
   "source": [
    "We see that for the number 8589934591 this function is applied 33 times before the number gets even. :) Feel free to discover larger numbers :)"
   ]
  },
  {
   "cell_type": "markdown",
   "id": "8d94ec48",
   "metadata": {},
   "source": [
    "If you don't accept the fact that we can scan the odds to find all the numbers for which the function is applied n times or more, you won't be able to deny this fact. After the calculation of the formula for the $ k=n $,we know that it is equal to an odd. We know,know,know this number. Then the rest is as follows, we scan all the odds from n=1 up until we find it. Saying it again,we know this odd number that the formula is equal to, we know it exists. So we scan all the odds for n=1 up until we find it.\n"
   ]
  },
  {
   "cell_type": "markdown",
   "id": "b88cc948",
   "metadata": {},
   "source": [
    "Another question that may arise is the following: You have found a number for which 29 times this function is applied. How do we know that there exists formulas for which it can be applied more times?"
   ]
  },
  {
   "cell_type": "markdown",
   "id": "822c045a",
   "metadata": {},
   "source": [
    "The answer is, we know that $ newFormula = (3*oldFormula + 1)/2 $ where $ oldFormula $ is odd for arbitrary $ k=n $. But oldFormula is odd, thus 3*oldFormula + 1 is even. The probability that the fraction is even for it's integer values is 1/2 (4,8,12...) and 1/2 for odd (2,6,10,...).Thus, the probability that no odd numbers will occur is close to zero."
   ]
  },
  {
   "cell_type": "markdown",
   "id": "510f8841",
   "metadata": {},
   "source": [
    "# After these lines of code YOU WON'T BE ABLE TO DENY MY PROOF!!"
   ]
  },
  {
   "cell_type": "code",
   "execution_count": null,
   "id": "019c2f17",
   "metadata": {},
   "outputs": [],
   "source": [
    "number=1\n",
    "import time\n",
    "while True:\n",
    "    print(number,collatz(number,0))\n",
    "    number*=2\n",
    "    number+=1\n",
    "    time.sleep(0.5)"
   ]
  },
  {
   "cell_type": "markdown",
   "id": "b3f8c206",
   "metadata": {},
   "source": [
    "Mathematicians will prove why this formula works:) Mathematical induction can be used,after finding the remaining coefficients a and b. a is $ 2^{k-1} $. I am not good enough to find the other:("
   ]
  },
  {
   "cell_type": "markdown",
   "id": "df560c5a",
   "metadata": {},
   "source": [
    "Oh, there is the proof:"
   ]
  },
  {
   "cell_type": "markdown",
   "id": "3f7e2cc2",
   "metadata": {},
   "source": [
    "Base: For n1=1 and n2=2*1+1=3 it's correct\n",
    "\n",
    "Let's assume that it holds for arbitrary ni=odd.We will prove that it's also correct for 2*ni+1.\n",
    "\n",
    "$(3*(2*ni+1)+1) / 2 = (6*ni+4) / 2 = 3*ni+2 $, where ni is odd.$3*ni$ is odd and $3*ni+2$ is also odd. Plain and simple:)\n",
    "\n",
    "The proof also holds for random odd,not necessary equal to 1."
   ]
  },
  {
   "cell_type": "markdown",
   "id": "22d04501",
   "metadata": {},
   "source": [
    "Personal LinkedIn profile https://www.linkedin.com/in/%CE%BB%CE%B5%CF%89%CE%BD%CE%AF%CE%B4%CE%B1%CF%82-%CF%80%CE%B1%CF%80%CE%B1%CE%B4%CF%8C%CF%80%CE%BF%CF%85%CE%BB%CE%BF%CF%82-826615236/\n",
    "\n",
    "Personal Facebook profile https://www.facebook.com/profile.php?id=100047645748600"
   ]
  },
  {
   "cell_type": "markdown",
   "id": "ab425a48",
   "metadata": {},
   "source": [
    "# You have to accept it:) You have to understand that for infinite odds this function is applied infinite times.\n"
   ]
  },
  {
   "cell_type": "code",
   "execution_count": null,
   "id": "c4dc6384",
   "metadata": {},
   "outputs": [],
   "source": []
  }
 ],
 "metadata": {
  "kernelspec": {
   "display_name": "Python 3 (ipykernel)",
   "language": "python",
   "name": "python3"
  },
  "language_info": {
   "codemirror_mode": {
    "name": "ipython",
    "version": 3
   },
   "file_extension": ".py",
   "mimetype": "text/x-python",
   "name": "python",
   "nbconvert_exporter": "python",
   "pygments_lexer": "ipython3",
   "version": "3.10.4"
  }
 },
 "nbformat": 4,
 "nbformat_minor": 5
}
